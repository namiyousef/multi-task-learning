{
  "nbformat": 4,
  "nbformat_minor": 0,
  "metadata": {
    "colab": {
      "name": "MTL_GPU.ipynb",
      "provenance": [],
      "collapsed_sections": []
    },
    "kernelspec": {
      "name": "python3",
      "display_name": "Python 3"
    },
    "language_info": {
      "name": "python"
    },
    "accelerator": "GPU"
  },
  "cells": [
    {
      "cell_type": "markdown",
      "source": [
        "# MTL on the GPU\n",
        "\n",
        "First, we need to clone the data. Instead of manually uploading, please clone the repository from Yipeng by running:\n",
        "\n",
        "`!git clone -b oxpet --single-branch https://weisslab.cs.ucl.ac.uk/WEISSTeaching/datasets.git`"
      ],
      "metadata": {
        "id": "Wx0-RyBmMikb"
      }
    },
    {
      "cell_type": "code",
      "source": [
        "!git clone -b oxpet --single-branch https://weisslab.cs.ucl.ac.uk/WEISSTeaching/datasets.git"
      ],
      "metadata": {
        "colab": {
          "base_uri": "https://localhost:8080/"
        },
        "id": "01E9xLC4Mltp",
        "outputId": "59e53c32-299c-43eb-ad19-f9e3eebe26bd"
      },
      "execution_count": 1,
      "outputs": [
        {
          "output_type": "stream",
          "name": "stdout",
          "text": [
            "Cloning into 'datasets'...\n",
            "remote: Enumerating objects: 257, done.\u001b[K\n",
            "remote: Counting objects: 100% (249/249), done.\u001b[K\n",
            "remote: Compressing objects: 100% (168/168), done.\u001b[K\n",
            "remote: Total 257 (delta 101), reused 182 (delta 72), pack-reused 8\u001b[K\n",
            "Receiving objects: 100% (257/257), 3.55 GiB | 15.13 MiB/s, done.\n",
            "Resolving deltas: 100% (103/103), done.\n",
            "Checking out files: 100% (25/25), done.\n"
          ]
        }
      ]
    },
    {
      "cell_type": "markdown",
      "source": [
        "Then, upload the `library.zip` file. Please not that torchvision.models.utils is not supported on the environment run here. A manual fix has been added to patch this. This should be visible when you run the code. Once uploaded, unzip the library using `unzip  library.zip`"
      ],
      "metadata": {
        "id": "t64g4q99QyCD"
      }
    },
    {
      "cell_type": "code",
      "source": [
        "!unzip -o mtl_gpu_lib3.zip "
      ],
      "metadata": {
        "id": "RRmGwjAzNSTm",
        "colab": {
          "base_uri": "https://localhost:8080/"
        },
        "outputId": "74be624a-571d-4402-d27b-a1199924b86e"
      },
      "execution_count": 8,
      "outputs": [
        {
          "output_type": "stream",
          "name": "stdout",
          "text": [
            "Archive:  mtl_gpu_lib3.zip\n",
            "  inflating: requirements.txt        \n",
            "  inflating: utils.py                \n",
            "  inflating: train.py                \n",
            "  inflating: models/bodys.py         \n",
            "  inflating: models/densenet.py      \n",
            "  inflating: models/model.py         \n",
            "  inflating: models/resnet.py        \n",
            "  inflating: models/utils.py         \n",
            "  inflating: models/heads.py         \n",
            "  inflating: models/__pycache__/bodys.cpython-37.pyc  \n",
            "  inflating: models/__pycache__/resnet.cpython-37.pyc  \n",
            "  inflating: models/__pycache__/model.cpython-37.pyc  \n",
            "  inflating: models/__pycache__/heads.cpython-37.pyc  \n",
            "  inflating: models/__pycache__/utils.cpython-39.pyc  \n",
            "  inflating: models/__pycache__/utils.cpython-38.pyc  \n",
            "  inflating: models/__pycache__/heads.cpython-39.pyc  \n",
            "  inflating: models/__pycache__/utils.cpython-37.pyc  \n",
            "  inflating: models/__pycache__/resnet.cpython-38.pyc  \n",
            "  inflating: models/__pycache__/resnet.cpython-39.pyc  \n",
            "  inflating: models/__pycache__/model.cpython-38.pyc  \n",
            "  inflating: models/__pycache__/model.cpython-39.pyc  \n",
            "  inflating: models/__pycache__/bodys.cpython-39.pyc  \n",
            "  inflating: main.py                 \n",
            "  inflating: data/data.py            \n",
            "  inflating: data/__pycache__/data.cpython-39.pyc  \n",
            "  inflating: data/__pycache__/data.cpython-37.pyc  \n",
            "  inflating: criterion/loss_functions.py  \n",
            "  inflating: criterion/metric_functions.py  \n",
            "  inflating: criterion/criterion.py  \n",
            "  inflating: criterion/__pycache__/criterion.cpython-37.pyc  \n",
            "  inflating: criterion/__pycache__/loss_functions.cpython-37.pyc  \n",
            "  inflating: criterion/__pycache__/loss_functions.cpython-39.pyc  \n",
            "  inflating: criterion/__pycache__/metric_functions.cpython-37.pyc  \n",
            "  inflating: criterion/__pycache__/criterion.cpython-39.pyc  \n"
          ]
        }
      ]
    },
    {
      "cell_type": "markdown",
      "source": [
        "Now we must install the relevant librries from the requirements file (this should be included in library.zip). Do this by running the following:\n",
        "`!python3 -m venv env`\n",
        "\n",
        "`!source env/bin/activate`\n",
        "\n",
        "`!pip install -r requirements.txt`\n",
        "\n",
        "You may get an error that the latest version of numpy could not be found. You can install this manually, although I believe it should exist by defualt in the first palce."
      ],
      "metadata": {
        "id": "62vB8MGvNmcR"
      }
    },
    {
      "cell_type": "code",
      "source": [
        "!python3 -m venv mtl_test_colab\n",
        "!source mtl_test_colab/bin/activate\n",
        "!which python\n",
        "!pip install -r requirements.txt"
      ],
      "metadata": {
        "id": "HjnJT1XgNwWk",
        "colab": {
          "base_uri": "https://localhost:8080/"
        },
        "outputId": "9a5c72c0-f238-4670-a033-68e0b6fd6aea"
      },
      "execution_count": 9,
      "outputs": [
        {
          "output_type": "stream",
          "name": "stdout",
          "text": [
            "Error: Command '['/content/mtl_test_colab/bin/python3', '-Im', 'ensurepip', '--upgrade', '--default-pip']' returned non-zero exit status 1.\n",
            "/bin/bash: mtl_test_colab/bin/activate: No such file or directory\n",
            "/usr/local/bin/python\n",
            "Requirement already satisfied: certifi==2021.10.8 in /usr/local/lib/python3.7/dist-packages (from -r requirements.txt (line 1)) (2021.10.8)\n",
            "Requirement already satisfied: cycler==0.11.0 in /usr/local/lib/python3.7/dist-packages (from -r requirements.txt (line 2)) (0.11.0)\n",
            "Collecting fonttools==4.28.5\n",
            "  Using cached fonttools-4.28.5-py3-none-any.whl (890 kB)\n",
            "Collecting h5py==3.6.0\n",
            "  Using cached h5py-3.6.0-cp37-cp37m-manylinux_2_12_x86_64.manylinux2010_x86_64.whl (4.1 MB)\n",
            "Collecting imageio==2.13.5\n",
            "  Using cached imageio-2.13.5-py3-none-any.whl (3.3 MB)\n",
            "Requirement already satisfied: joblib==1.1.0 in /usr/local/lib/python3.7/dist-packages (from -r requirements.txt (line 6)) (1.1.0)\n",
            "Requirement already satisfied: kiwisolver==1.3.2 in /usr/local/lib/python3.7/dist-packages (from -r requirements.txt (line 7)) (1.3.2)\n",
            "Collecting matplotlib==3.5.1\n",
            "  Using cached matplotlib-3.5.1-cp37-cp37m-manylinux_2_5_x86_64.manylinux1_x86_64.whl (11.2 MB)\n",
            "Requirement already satisfied: networkx==2.6.3 in /usr/local/lib/python3.7/dist-packages (from -r requirements.txt (line 9)) (2.6.3)\n",
            "\u001b[31mERROR: Could not find a version that satisfies the requirement numpy==1.22.0 (from versions: 1.3.0, 1.4.1, 1.5.0, 1.5.1, 1.6.0, 1.6.1, 1.6.2, 1.7.0, 1.7.1, 1.7.2, 1.8.0, 1.8.1, 1.8.2, 1.9.0, 1.9.1, 1.9.2, 1.9.3, 1.10.0.post2, 1.10.1, 1.10.2, 1.10.4, 1.11.0, 1.11.1, 1.11.2, 1.11.3, 1.12.0, 1.12.1, 1.13.0rc1, 1.13.0rc2, 1.13.0, 1.13.1, 1.13.3, 1.14.0rc1, 1.14.0, 1.14.1, 1.14.2, 1.14.3, 1.14.4, 1.14.5, 1.14.6, 1.15.0rc1, 1.15.0rc2, 1.15.0, 1.15.1, 1.15.2, 1.15.3, 1.15.4, 1.16.0rc1, 1.16.0rc2, 1.16.0, 1.16.1, 1.16.2, 1.16.3, 1.16.4, 1.16.5, 1.16.6, 1.17.0rc1, 1.17.0rc2, 1.17.0, 1.17.1, 1.17.2, 1.17.3, 1.17.4, 1.17.5, 1.18.0rc1, 1.18.0, 1.18.1, 1.18.2, 1.18.3, 1.18.4, 1.18.5, 1.19.0rc1, 1.19.0rc2, 1.19.0, 1.19.1, 1.19.2, 1.19.3, 1.19.4, 1.19.5, 1.20.0rc1, 1.20.0rc2, 1.20.0, 1.20.1, 1.20.2, 1.20.3, 1.21.0rc1, 1.21.0rc2, 1.21.0, 1.21.1, 1.21.2, 1.21.3, 1.21.4, 1.21.5)\u001b[0m\n",
            "\u001b[31mERROR: No matching distribution found for numpy==1.22.0\u001b[0m\n"
          ]
        }
      ]
    },
    {
      "cell_type": "markdown",
      "source": [
        "## Now... hopefully you can run the code without any problems!\n",
        "\n",
        "If you do have problems, please add them as issues to GitHub so they can get fixed."
      ],
      "metadata": {
        "id": "cHLSmCgfNXTw"
      }
    },
    {
      "cell_type": "code",
      "source": [
        "from main import main\n",
        "import torch\n",
        "\n",
        "config = {\n",
        "        'model': [64, 128, 256, 512],\n",
        "        'mtl': {\"Model\":\"Multi Task\",\n",
        "                \"Tasks\":{\n",
        "                    \"Class\":2,\n",
        "                    \"Segmen\":1,\n",
        "                    \"BB\":4},\n",
        "                \"Loss Lambda\":{\n",
        "                    \"Class\":1,\n",
        "                    \"Segmen\":1,\n",
        "                    \"BB\":4}}\n",
        "    }\n",
        "\n",
        "main(config=config, epochs=1, batch_size=1)"
      ],
      "metadata": {
        "colab": {
          "base_uri": "https://localhost:8080/"
        },
        "id": "wuRpjl8uNUqQ",
        "outputId": "13bedce0-2920-47de-b467-0eca1b8f78fa"
      },
      "execution_count": 1,
      "outputs": [
        {
          "output_type": "stream",
          "name": "stdout",
          "text": [
            "Pytorch version is: 1.10.0+cu111. torchvision.models.utils does not exist\n",
            "Importing load_state_dict_from_url from torch.hub instead...\n",
            "CUDA device detected. Running on GPU.\n",
            "CUDA device detected. Running on GPU.\n",
            "Train loop started...\n",
            "Epoch 1\n",
            "Minibatch 1 complete. Time taken: 0.40783143043518066\n",
            "Minibatch 2 complete. Time taken: 0.4112095832824707\n",
            "Minibatch 3 complete. Time taken: 0.41173410415649414\n",
            "Minibatch 4 complete. Time taken: 0.4142024517059326\n",
            "Minibatch 5 complete. Time taken: 0.4140939712524414\n",
            "seg mean 0.5593401432037354 class mean 0.5535098847952351 bb mean 0.038959879613369705\n",
            "Training accuracy: 0.8\n",
            "Test loop started...\n",
            "seg mean 0.49048781394958496 class mean 21.53718729019165 bb mean 0.03656851263046265\n",
            "Test Accuracy: 0.4000000059604645\n"
          ]
        }
      ]
    },
    {
      "cell_type": "markdown",
      "source": [
        "# Archive"
      ],
      "metadata": {
        "id": "QbLNvVBbQhJ4"
      }
    },
    {
      "cell_type": "code",
      "source": [
        "import os\n",
        "import time\n",
        "\n",
        "def _install_data(version='new'):\n",
        "  \"\"\"\n",
        "  downloads the data from source () in local directory. This should be quick snd\n",
        "  prevents need for manual upload\n",
        "\n",
        "  :param version: if 'new' will get the new dataset. The new dataset is identical except that the test\n",
        "  contain both dog and cat classes (original data only contains single class)\n",
        "  \"\"\"\n",
        "  base_url = 'https://weisslab.cs.ucl.ac.uk/WEISSTeaching/datasets/-/tree/oxpet/'\n",
        "  if version == 'new':\n",
        "    base_url += 'data_new/'\n",
        "  base_url += '{}/{}'\n",
        "\n",
        "  file_names = ['images', 'binary', 'bboxes', 'masks']\n",
        "  file_names = [file_name + '.h5' for file_name in file_names]\n",
        "\n",
        "  dir_names = ['train', 'test', 'val']\n",
        "\n",
        "  for dir_name in dir_names:\n",
        "    os.system(f'mkdir {dir_name}')\n",
        "    for file_name in file_names:\n",
        "      if not os.path.exists(os.path.join(dir_name, file_name)):\n",
        "        get_url = base_url.format(dir_name, file_name)\n",
        "        os.system(f'wget -P {dir_name} {get_url}')\n",
        "\n",
        "s = time.time()\n",
        "_install_data()\n",
        "print(f'Data downloaded. Time taken: {time.time() -s}')"
      ],
      "metadata": {
        "id": "FMlngNJWQiJh"
      },
      "execution_count": null,
      "outputs": []
    },
    {
      "cell_type": "markdown",
      "source": [
        ""
      ],
      "metadata": {
        "id": "10dWEwL0blsV"
      }
    },
    {
      "cell_type": "code",
      "source": [
        "a = torch.tensor([1,2,3]).float().cuda()\n",
        "b = torch.tensor([1,2,3]).float().cuda()[0]\n",
        "print(a)"
      ],
      "metadata": {
        "id": "QJgzLJtZbmNy"
      },
      "execution_count": null,
      "outputs": []
    },
    {
      "cell_type": "code",
      "source": [
        "print(b)"
      ],
      "metadata": {
        "id": "0Klaw1bdbupU"
      },
      "execution_count": null,
      "outputs": []
    },
    {
      "cell_type": "code",
      "source": [
        "import torch\n",
        "class Test(torch.nn.Module):\n",
        "  def __init__(self):\n",
        "    super(Test, self).__init__()\n",
        "    self.layer1 = torch.nn.Conv2d(3,3,3)\n",
        "    self.layer2 = torch.nn.Conv2d(3,3,3)"
      ],
      "metadata": {
        "id": "DkvnlyO3b2uo"
      },
      "execution_count": 4,
      "outputs": []
    },
    {
      "cell_type": "code",
      "source": [
        "a = Test().cuda()\n",
        "check_cuda = lambda x : next(x.parameters()).is_cuda\n",
        "check_cuda(a)"
      ],
      "metadata": {
        "colab": {
          "base_uri": "https://localhost:8080/"
        },
        "id": "EsFqQKImiU6G",
        "outputId": "a68b280e-880c-4fe0-9255-e80b91a921ee"
      },
      "execution_count": 8,
      "outputs": [
        {
          "output_type": "execute_result",
          "data": {
            "text/plain": [
              "True"
            ]
          },
          "metadata": {},
          "execution_count": 8
        }
      ]
    },
    {
      "cell_type": "code",
      "source": [
        "check_cuda(a.layer1)"
      ],
      "metadata": {
        "colab": {
          "base_uri": "https://localhost:8080/"
        },
        "id": "JU_9C9kRijzi",
        "outputId": "35566617-df3b-47e4-ab0f-2969f1afc992"
      },
      "execution_count": 9,
      "outputs": [
        {
          "output_type": "execute_result",
          "data": {
            "text/plain": [
              "True"
            ]
          },
          "metadata": {},
          "execution_count": 9
        }
      ]
    },
    {
      "cell_type": "code",
      "source": [
        "def get_layer():\n",
        "  return torch.nn.Conv2d(3,3,3)\n",
        "\n",
        "class Test2(torch.nn.Module):\n",
        "  def __init__(self):\n",
        "    super(Test2, self).__init__()\n",
        "    self.layer1 = get_layer()\n",
        "\n",
        "a = Test2().cuda()\n",
        "check_cuda(a.layer1)"
      ],
      "metadata": {
        "colab": {
          "base_uri": "https://localhost:8080/"
        },
        "id": "FwvWuPEwixyb",
        "outputId": "87446c04-d64b-4428-873d-aa0f56db949c"
      },
      "execution_count": 11,
      "outputs": [
        {
          "output_type": "execute_result",
          "data": {
            "text/plain": [
              "True"
            ]
          },
          "metadata": {},
          "execution_count": 11
        }
      ]
    },
    {
      "cell_type": "code",
      "source": [
        ""
      ],
      "metadata": {
        "id": "KLwA-6Cui_2n"
      },
      "execution_count": null,
      "outputs": []
    }
  ]
}